{
 "cells": [
  {
   "cell_type": "markdown",
   "metadata": {},
   "source": [
    "# ML Pipeline Preparation\n",
    "Follow the instructions below to help you create your ML pipeline.\n",
    "### 1. Import libraries and load data from database.\n",
    "- Import Python libraries\n",
    "- Load dataset from database with [`read_sql_table`](https://pandas.pydata.org/pandas-docs/stable/generated/pandas.read_sql_table.html)\n",
    "- Define feature and target variables X and Y"
   ]
  },
  {
   "cell_type": "code",
   "execution_count": 360,
   "metadata": {
    "tags": []
   },
   "outputs": [
    {
     "name": "stderr",
     "output_type": "stream",
     "text": [
      "[nltk_data] Downloading package punkt to /Users/mxagar/nltk_data...\n",
      "[nltk_data]   Package punkt is already up-to-date!\n",
      "[nltk_data] Downloading package wordnet to /Users/mxagar/nltk_data...\n",
      "[nltk_data]   Package wordnet is already up-to-date!\n",
      "[nltk_data] Downloading package averaged_perceptron_tagger to\n",
      "[nltk_data]     /Users/mxagar/nltk_data...\n",
      "[nltk_data]   Package averaged_perceptron_tagger is already up-to-\n",
      "[nltk_data]       date!\n"
     ]
    }
   ],
   "source": [
    "# import libraries\n",
    "import yaml\n",
    "import re\n",
    "import numpy as np\n",
    "import pandas as pd\n",
    "import chardet\n",
    "from sqlalchemy import create_engine\n",
    "import matplotlib.pyplot as plt\n",
    "import pickle\n",
    "\n",
    "import nltk\n",
    "nltk.download(['punkt', 'wordnet', 'averaged_perceptron_tagger'])\n",
    "\n",
    "from nltk.tokenize import word_tokenize\n",
    "from nltk.stem import WordNetLemmatizer\n",
    "\n",
    "from sklearn.impute import SimpleImputer\n",
    "from sklearn.preprocessing import OneHotEncoder\n",
    "from sklearn.preprocessing import FunctionTransformer\n",
    "from sklearn.compose import ColumnTransformer\n",
    "from sklearn.metrics import confusion_matrix\n",
    "from sklearn.model_selection import GridSearchCV\n",
    "from sklearn.ensemble import RandomForestClassifier\n",
    "from sklearn.multioutput import MultiOutputClassifier\n",
    "from sklearn.model_selection import train_test_split\n",
    "from sklearn.pipeline import Pipeline, FeatureUnion\n",
    "from sklearn.base import BaseEstimator, TransformerMixin\n",
    "from sklearn.feature_extraction.text import CountVectorizer, TfidfTransformer\n",
    "\n",
    "URL_REGEX = 'http[s]?://(?:[a-zA-Z]|[0-9]|[$-_@.&+]|[!*\\(\\),]|(?:%[0-9a-fA-F][0-9a-fA-F]))+'\n"
   ]
  },
  {
   "cell_type": "code",
   "execution_count": 14,
   "metadata": {
    "tags": []
   },
   "outputs": [],
   "source": [
    "# load data from database\n",
    "engine = create_engine('sqlite:///../data/DisasterResponse.db')\n",
    "# Run SELECT * query\n",
    "df = pd.read_sql(\"SELECT * FROM Message\", engine)"
   ]
  },
  {
   "cell_type": "code",
   "execution_count": 15,
   "metadata": {
    "tags": []
   },
   "outputs": [
    {
     "data": {
      "text/plain": [
       "(26216, 40)"
      ]
     },
     "execution_count": 15,
     "metadata": {},
     "output_type": "execute_result"
    }
   ],
   "source": [
    "df.shape"
   ]
  },
  {
   "cell_type": "code",
   "execution_count": 11,
   "metadata": {
    "tags": []
   },
   "outputs": [
    {
     "data": {
      "text/plain": [
       "Index(['id', 'message', 'original', 'genre', 'related', 'request', 'offer',\n",
       "       'aid_related', 'medical_help', 'medical_products', 'search_and_rescue',\n",
       "       'security', 'military', 'child_alone', 'water', 'food', 'shelter',\n",
       "       'clothing', 'money', 'missing_people', 'refugees', 'death', 'other_aid',\n",
       "       'infrastructure_related', 'transport', 'buildings', 'electricity',\n",
       "       'tools', 'hospitals', 'shops', 'aid_centers', 'other_infrastructure',\n",
       "       'weather_related', 'floods', 'storm', 'fire', 'earthquake', 'cold',\n",
       "       'other_weather', 'direct_report'],\n",
       "      dtype='object')"
      ]
     },
     "execution_count": 11,
     "metadata": {},
     "output_type": "execute_result"
    }
   ],
   "source": [
    "df.columns"
   ]
  },
  {
   "cell_type": "code",
   "execution_count": 43,
   "metadata": {
    "tags": []
   },
   "outputs": [
    {
     "data": {
      "text/html": [
       "<div>\n",
       "<style scoped>\n",
       "    .dataframe tbody tr th:only-of-type {\n",
       "        vertical-align: middle;\n",
       "    }\n",
       "\n",
       "    .dataframe tbody tr th {\n",
       "        vertical-align: top;\n",
       "    }\n",
       "\n",
       "    .dataframe thead th {\n",
       "        text-align: right;\n",
       "    }\n",
       "</style>\n",
       "<table border=\"1\" class=\"dataframe\">\n",
       "  <thead>\n",
       "    <tr style=\"text-align: right;\">\n",
       "      <th></th>\n",
       "      <th>id</th>\n",
       "      <th>message</th>\n",
       "      <th>original</th>\n",
       "      <th>genre</th>\n",
       "      <th>related</th>\n",
       "      <th>request</th>\n",
       "      <th>offer</th>\n",
       "      <th>aid_related</th>\n",
       "      <th>medical_help</th>\n",
       "      <th>medical_products</th>\n",
       "      <th>...</th>\n",
       "      <th>aid_centers</th>\n",
       "      <th>other_infrastructure</th>\n",
       "      <th>weather_related</th>\n",
       "      <th>floods</th>\n",
       "      <th>storm</th>\n",
       "      <th>fire</th>\n",
       "      <th>earthquake</th>\n",
       "      <th>cold</th>\n",
       "      <th>other_weather</th>\n",
       "      <th>direct_report</th>\n",
       "    </tr>\n",
       "  </thead>\n",
       "  <tbody>\n",
       "    <tr>\n",
       "      <th>0</th>\n",
       "      <td>2</td>\n",
       "      <td>Weather update - a cold front from Cuba that c...</td>\n",
       "      <td>Un front froid se retrouve sur Cuba ce matin. ...</td>\n",
       "      <td>direct</td>\n",
       "      <td>1</td>\n",
       "      <td>0</td>\n",
       "      <td>0</td>\n",
       "      <td>0</td>\n",
       "      <td>0</td>\n",
       "      <td>0</td>\n",
       "      <td>...</td>\n",
       "      <td>0</td>\n",
       "      <td>0</td>\n",
       "      <td>0</td>\n",
       "      <td>0</td>\n",
       "      <td>0</td>\n",
       "      <td>0</td>\n",
       "      <td>0</td>\n",
       "      <td>0</td>\n",
       "      <td>0</td>\n",
       "      <td>0</td>\n",
       "    </tr>\n",
       "    <tr>\n",
       "      <th>1</th>\n",
       "      <td>7</td>\n",
       "      <td>Is the Hurricane over or is it not over</td>\n",
       "      <td>Cyclone nan fini osinon li pa fini</td>\n",
       "      <td>direct</td>\n",
       "      <td>1</td>\n",
       "      <td>0</td>\n",
       "      <td>0</td>\n",
       "      <td>1</td>\n",
       "      <td>0</td>\n",
       "      <td>0</td>\n",
       "      <td>...</td>\n",
       "      <td>0</td>\n",
       "      <td>0</td>\n",
       "      <td>1</td>\n",
       "      <td>0</td>\n",
       "      <td>1</td>\n",
       "      <td>0</td>\n",
       "      <td>0</td>\n",
       "      <td>0</td>\n",
       "      <td>0</td>\n",
       "      <td>0</td>\n",
       "    </tr>\n",
       "    <tr>\n",
       "      <th>2</th>\n",
       "      <td>8</td>\n",
       "      <td>Looking for someone but no name</td>\n",
       "      <td>Patnm, di Maryani relem pou li banm nouvel li ...</td>\n",
       "      <td>direct</td>\n",
       "      <td>1</td>\n",
       "      <td>0</td>\n",
       "      <td>0</td>\n",
       "      <td>0</td>\n",
       "      <td>0</td>\n",
       "      <td>0</td>\n",
       "      <td>...</td>\n",
       "      <td>0</td>\n",
       "      <td>0</td>\n",
       "      <td>0</td>\n",
       "      <td>0</td>\n",
       "      <td>0</td>\n",
       "      <td>0</td>\n",
       "      <td>0</td>\n",
       "      <td>0</td>\n",
       "      <td>0</td>\n",
       "      <td>0</td>\n",
       "    </tr>\n",
       "    <tr>\n",
       "      <th>3</th>\n",
       "      <td>9</td>\n",
       "      <td>UN reports Leogane 80-90 destroyed. Only Hospi...</td>\n",
       "      <td>UN reports Leogane 80-90 destroyed. Only Hospi...</td>\n",
       "      <td>direct</td>\n",
       "      <td>1</td>\n",
       "      <td>1</td>\n",
       "      <td>0</td>\n",
       "      <td>1</td>\n",
       "      <td>0</td>\n",
       "      <td>1</td>\n",
       "      <td>...</td>\n",
       "      <td>0</td>\n",
       "      <td>0</td>\n",
       "      <td>0</td>\n",
       "      <td>0</td>\n",
       "      <td>0</td>\n",
       "      <td>0</td>\n",
       "      <td>0</td>\n",
       "      <td>0</td>\n",
       "      <td>0</td>\n",
       "      <td>0</td>\n",
       "    </tr>\n",
       "    <tr>\n",
       "      <th>4</th>\n",
       "      <td>12</td>\n",
       "      <td>says: west side of Haiti, rest of the country ...</td>\n",
       "      <td>facade ouest d Haiti et le reste du pays aujou...</td>\n",
       "      <td>direct</td>\n",
       "      <td>1</td>\n",
       "      <td>0</td>\n",
       "      <td>0</td>\n",
       "      <td>0</td>\n",
       "      <td>0</td>\n",
       "      <td>0</td>\n",
       "      <td>...</td>\n",
       "      <td>0</td>\n",
       "      <td>0</td>\n",
       "      <td>0</td>\n",
       "      <td>0</td>\n",
       "      <td>0</td>\n",
       "      <td>0</td>\n",
       "      <td>0</td>\n",
       "      <td>0</td>\n",
       "      <td>0</td>\n",
       "      <td>0</td>\n",
       "    </tr>\n",
       "  </tbody>\n",
       "</table>\n",
       "<p>5 rows × 40 columns</p>\n",
       "</div>"
      ],
      "text/plain": [
       "   id                                            message  \\\n",
       "0   2  Weather update - a cold front from Cuba that c...   \n",
       "1   7            Is the Hurricane over or is it not over   \n",
       "2   8                    Looking for someone but no name   \n",
       "3   9  UN reports Leogane 80-90 destroyed. Only Hospi...   \n",
       "4  12  says: west side of Haiti, rest of the country ...   \n",
       "\n",
       "                                            original   genre  related  \\\n",
       "0  Un front froid se retrouve sur Cuba ce matin. ...  direct        1   \n",
       "1                 Cyclone nan fini osinon li pa fini  direct        1   \n",
       "2  Patnm, di Maryani relem pou li banm nouvel li ...  direct        1   \n",
       "3  UN reports Leogane 80-90 destroyed. Only Hospi...  direct        1   \n",
       "4  facade ouest d Haiti et le reste du pays aujou...  direct        1   \n",
       "\n",
       "   request  offer  aid_related  medical_help  medical_products  ...  \\\n",
       "0        0      0            0             0                 0  ...   \n",
       "1        0      0            1             0                 0  ...   \n",
       "2        0      0            0             0                 0  ...   \n",
       "3        1      0            1             0                 1  ...   \n",
       "4        0      0            0             0                 0  ...   \n",
       "\n",
       "   aid_centers  other_infrastructure  weather_related  floods  storm  fire  \\\n",
       "0            0                     0                0       0      0     0   \n",
       "1            0                     0                1       0      1     0   \n",
       "2            0                     0                0       0      0     0   \n",
       "3            0                     0                0       0      0     0   \n",
       "4            0                     0                0       0      0     0   \n",
       "\n",
       "   earthquake  cold  other_weather  direct_report  \n",
       "0           0     0              0              0  \n",
       "1           0     0              0              0  \n",
       "2           0     0              0              0  \n",
       "3           0     0              0              0  \n",
       "4           0     0              0              0  \n",
       "\n",
       "[5 rows x 40 columns]"
      ]
     },
     "execution_count": 43,
     "metadata": {},
     "output_type": "execute_result"
    }
   ],
   "source": [
    "df.head()"
   ]
  },
  {
   "cell_type": "code",
   "execution_count": 48,
   "metadata": {
    "tags": []
   },
   "outputs": [
    {
     "data": {
      "text/plain": [
       "id                            0\n",
       "message                       0\n",
       "original                  16046\n",
       "genre                         0\n",
       "related                       0\n",
       "request                       0\n",
       "offer                         0\n",
       "aid_related                   0\n",
       "medical_help                  0\n",
       "medical_products              0\n",
       "search_and_rescue             0\n",
       "security                      0\n",
       "military                      0\n",
       "child_alone                   0\n",
       "water                         0\n",
       "food                          0\n",
       "shelter                       0\n",
       "clothing                      0\n",
       "money                         0\n",
       "missing_people                0\n",
       "refugees                      0\n",
       "death                         0\n",
       "other_aid                     0\n",
       "infrastructure_related        0\n",
       "transport                     0\n",
       "buildings                     0\n",
       "electricity                   0\n",
       "tools                         0\n",
       "hospitals                     0\n",
       "shops                         0\n",
       "aid_centers                   0\n",
       "other_infrastructure          0\n",
       "weather_related               0\n",
       "floods                        0\n",
       "storm                         0\n",
       "fire                          0\n",
       "earthquake                    0\n",
       "cold                          0\n",
       "other_weather                 0\n",
       "direct_report                 0\n",
       "dtype: int64"
      ]
     },
     "execution_count": 48,
     "metadata": {},
     "output_type": "execute_result"
    }
   ],
   "source": [
    "df.isna().sum(axis=0)"
   ]
  },
  {
   "cell_type": "code",
   "execution_count": 49,
   "metadata": {
    "tags": []
   },
   "outputs": [],
   "source": [
    "df.dropna(subset=[\"message\"], inplace=True)"
   ]
  },
  {
   "cell_type": "code",
   "execution_count": 35,
   "metadata": {
    "tags": []
   },
   "outputs": [
    {
     "data": {
      "text/plain": [
       "news      13054\n",
       "direct    10766\n",
       "social     2396\n",
       "Name: genre, dtype: int64"
      ]
     },
     "execution_count": 35,
     "metadata": {},
     "output_type": "execute_result"
    }
   ],
   "source": [
    "df.genre.value_counts()"
   ]
  },
  {
   "cell_type": "code",
   "execution_count": 36,
   "metadata": {
    "tags": []
   },
   "outputs": [
    {
     "data": {
      "text/plain": [
       "related                   20282\n",
       "request                    4474\n",
       "offer                       118\n",
       "aid_related               10860\n",
       "medical_help               2084\n",
       "medical_products           1313\n",
       "search_and_rescue           724\n",
       "security                    471\n",
       "military                    860\n",
       "child_alone                   0\n",
       "water                      1672\n",
       "food                       2923\n",
       "shelter                    2314\n",
       "clothing                    405\n",
       "money                       604\n",
       "missing_people              298\n",
       "refugees                    875\n",
       "death                      1194\n",
       "other_aid                  3446\n",
       "infrastructure_related     1705\n",
       "transport                  1201\n",
       "buildings                  1333\n",
       "electricity                 532\n",
       "tools                       159\n",
       "hospitals                   283\n",
       "shops                       120\n",
       "aid_centers                 309\n",
       "other_infrastructure       1151\n",
       "weather_related            7297\n",
       "floods                     2155\n",
       "storm                      2443\n",
       "fire                        282\n",
       "earthquake                 2455\n",
       "cold                        530\n",
       "other_weather              1376\n",
       "direct_report              5075\n",
       "dtype: int64"
      ]
     },
     "execution_count": 36,
     "metadata": {},
     "output_type": "execute_result"
    }
   ],
   "source": [
    "df.iloc[:,4:].sum(axis=0)"
   ]
  },
  {
   "cell_type": "code",
   "execution_count": 449,
   "metadata": {
    "tags": []
   },
   "outputs": [
    {
     "name": "stdout",
     "output_type": "stream",
     "text": [
      "['child_alone', 'offer', 'shops', 'tools', 'fire', 'hospitals', 'missing_people', 'aid_centers', 'clothing', 'security', 'cold', 'electricity', 'money', 'search_and_rescue', 'military', 'refugees', 'other_infrastructure', 'death', 'transport', 'medical_products', 'buildings', 'other_weather', 'water', 'infrastructure_related', 'medical_help', 'floods', 'shelter', 'storm', 'earthquake', 'food', 'other_aid', 'request', 'direct_report', 'weather_related', 'aid_related', 'related']\n"
     ]
    },
    {
     "data": {
      "image/png": "[encoded data removed]",
      "text/plain": [
       "<Figure size 300x700 with 1 Axes>"
      ]
     },
     "metadata": {},
     "output_type": "display_data"
    }
   ],
   "source": [
    "plt.figure(figsize=(3,7))\n",
    "s = 100*df.iloc[:,4:].sum(axis=0)/df.shape[0]\n",
    "s.sort_values(ascending=True).plot(kind='barh')\n",
    "print(list(s.sort_values(ascending=True).index))\n",
    "plt.xlabel(\"Percent of messages\")\n",
    "#plt.show()\n",
    "plt.title('Message categories (targets)')\n",
    "plt.savefig('../assets/targets_distribution.png',dpi=300,transparent=False,bbox_inches='tight')"
   ]
  },
  {
   "cell_type": "markdown",
   "metadata": {},
   "source": [
    "### 2. Write a tokenization function to process your text data"
   ]
  },
  {
   "cell_type": "code",
   "execution_count": 362,
   "metadata": {
    "tags": []
   },
   "outputs": [],
   "source": [
    "from string import punctuation"
   ]
  },
  {
   "cell_type": "code",
   "execution_count": 363,
   "metadata": {
    "tags": []
   },
   "outputs": [
    {
     "data": {
      "text/plain": [
       "'!\"#$%&\\'()*+,-./:;<=>?@[\\\\]^_`{|}~'"
      ]
     },
     "execution_count": 363,
     "metadata": {},
     "output_type": "execute_result"
    }
   ],
   "source": [
    "punctuation"
   ]
  },
  {
   "cell_type": "code",
   "execution_count": 367,
   "metadata": {
    "tags": []
   },
   "outputs": [],
   "source": [
    "def tokenize(text):\n",
    "    \"\"\"Perform the NLP:\n",
    "    \n",
    "    - Clean\n",
    "    - Normalize (to lower)\n",
    "    - Tokenize\n",
    "    - Lemmatize\n",
    "    \n",
    "    Args:\n",
    "        text (string): message\n",
    "    \n",
    "    Returns:\n",
    "        clean_tokens (list): list of processed lemmas\n",
    "    \"\"\"\n",
    "    #detected_urls = re.findall(URL_REGEX, text)\n",
    "    #for url in detected_urls:\n",
    "    #    text = text.replace(url, \"urlplaceholder\")\n",
    "    # Remove punctuation\n",
    "    punctuation = '!\"#$%&\\'()*+,-./:;<=>?@[\\\\]^_`{|}~'\n",
    "    text =  ''.join([c for c in text if c not in punctuation])\n",
    "\n",
    "    tokens = word_tokenize(text)\n",
    "    lemmatizer = WordNetLemmatizer()\n",
    "\n",
    "    clean_tokens = []\n",
    "    for tok in tokens:\n",
    "        clean_tok = lemmatizer.lemmatize(tok).lower().strip()\n",
    "        clean_tokens.append(clean_tok)\n",
    "\n",
    "    return clean_tokens"
   ]
  },
  {
   "cell_type": "markdown",
   "metadata": {},
   "source": [
    "### 3. Build a machine learning pipeline\n",
    "This machine pipeline should take in the `message` column as input and output classification results on the other 36 categories in the dataset. You may find the [MultiOutputClassifier](http://scikit-learn.org/stable/modules/generated/sklearn.multioutput.MultiOutputClassifier.html) helpful for predicting multiple target variables."
   ]
  },
  {
   "cell_type": "code",
   "execution_count": 368,
   "metadata": {
    "tags": []
   },
   "outputs": [],
   "source": [
    "from sklearn.multioutput import MultiOutputClassifier"
   ]
  },
  {
   "cell_type": "code",
   "execution_count": 369,
   "metadata": {
    "tags": []
   },
   "outputs": [],
   "source": [
    "with open(\"../config.yaml\") as f: # 'config.yaml'\n",
    "    config = yaml.safe_load(f)"
   ]
  },
  {
   "cell_type": "code",
   "execution_count": 370,
   "metadata": {
    "tags": []
   },
   "outputs": [],
   "source": [
    "categorical_columns = ['genre']\n",
    "nlp_columns = ['message']\n",
    "target_columns = ['related', 'request', 'offer',\n",
    "    'aid_related', 'medical_help', 'medical_products', 'search_and_rescue',\n",
    "    'security', 'military', 'child_alone', 'water', 'food', 'shelter',\n",
    "    'clothing', 'money', 'missing_people', 'refugees', 'death', 'other_aid',\n",
    "    'infrastructure_related', 'transport', 'buildings', 'electricity',\n",
    "    'tools', 'hospitals', 'shops', 'aid_centers', 'other_infrastructure',\n",
    "    'weather_related', 'floods', 'storm', 'fire', 'earthquake', 'cold',\n",
    "    'other_weather', 'direct_report']"
   ]
  },
  {
   "cell_type": "code",
   "execution_count": 371,
   "metadata": {
    "tags": []
   },
   "outputs": [],
   "source": [
    "class StartingVerbExtractor(BaseEstimator, TransformerMixin):\n",
    "    \"\"\"Custom transformer. Guidelines:\n",
    "\n",
    "    - Always define fit() and transform()\n",
    "    and return self if there is nothing to return. \n",
    "    - Define __init__() if attributes need to be stored.\n",
    "    \n",
    "    This custom transformer returns True if any of the sentences\n",
    "    in the text/message starts with a verb; otherwise, False.\"\"\"\n",
    "    def starting_verb(self, text):\n",
    "        sentence_list = nltk.sent_tokenize(text)\n",
    "        for sentence in sentence_list:\n",
    "            pos_tags = nltk.pos_tag(tokenize(sentence))\n",
    "            first_word, first_tag = pos_tags[0]\n",
    "            if first_tag in ['VB', 'VBP'] or first_word == 'RT':\n",
    "                return True\n",
    "        return False\n",
    "\n",
    "    def fit(self, X, y=None):\n",
    "        return self\n",
    "\n",
    "    def transform(self, X):\n",
    "        X_tagged = pd.Series(X).apply(self.starting_verb)\n",
    "        return pd.DataFrame(X_tagged)"
   ]
  },
  {
   "cell_type": "code",
   "execution_count": 372,
   "metadata": {
    "tags": []
   },
   "outputs": [],
   "source": [
    "# In order to be able to serialize an object (pickle)\n",
    "# we cannot use lambdas in it\n",
    "\n",
    "def squeeze(x):\n",
    "    \"\"\"Squeeze array.\"\"\"\n",
    "    return x.squeeze()\n",
    "\n",
    "def toarray(x):\n",
    "    \"\"\"Convert to array.\"\"\"\n",
    "    return x.toarray()"
   ]
  },
  {
   "cell_type": "code",
   "execution_count": 373,
   "metadata": {
    "tags": []
   },
   "outputs": [],
   "source": [
    "categorical_transformer = Pipeline(steps=[\n",
    "    ('imputer', SimpleImputer(strategy=\"most_frequent\")),\n",
    "    ('onehot', OneHotEncoder(sparse_output=False, drop=\"first\", handle_unknown=\"ignore\"))])\n",
    "\n",
    "\"\"\"\n",
    "nlp_transformer = Pipeline(steps=[\n",
    "    ('nlp', FeatureUnion([\n",
    "        ('text_pipeline', Pipeline([\n",
    "            ('vect', CountVectorizer(tokenizer=tokenize)),\n",
    "            ('tfidf', TfidfTransformer())\n",
    "            ])),\n",
    "        ('starting_verb', StartingVerbExtractor())\n",
    "        ])\n",
    "    )])\n",
    "\"\"\"\n",
    "\n",
    "# CountVectorizer and TfidfTransformer have some issues\n",
    "# with the size of the arrays, and they require some reshaping\n",
    "# as done here with FunctionTransformer\n",
    "nlp_transformer = Pipeline([\n",
    "    #('reshape', FunctionTransformer(np.reshape, kw_args={\"newshape\": -1})),\n",
    "    #(\"squeeze\", FunctionTransformer(lambda x: x.squeeze())),\n",
    "    (\"squeeze\", FunctionTransformer(squeeze)),\n",
    "    ('vect', CountVectorizer(tokenizer=tokenize, token_pattern=None)),\n",
    "    ('tfidf', TfidfTransformer()),\n",
    "    #(\"toarray\", FunctionTransformer(lambda x: x.toarray())),\n",
    "    (\"toarray\", FunctionTransformer(toarray)),\n",
    "])\n",
    "\n",
    "text_transformer = FeatureUnion([\n",
    "    ('nlp', nlp_transformer),\n",
    "    ('starting_verb', StartingVerbExtractor())\n",
    "])\n",
    "\n",
    "processor = ColumnTransformer(\n",
    "    transformers=[\n",
    "        (\"cat\", categorical_transformer, categorical_columns),\n",
    "        (\"nlp\", nlp_transformer, nlp_columns),\n",
    "        #(\"text\", text_transformer, nlp_columns),\n",
    "    ],\n",
    "    remainder=\"drop\",  # This drops the columns that we do not transform\n",
    ")\n",
    "\n",
    "# MultiOutputClassifier is used to handle N-D target\n",
    "# However note that \"this strategy consists in fitting one classifier per target\",\n",
    "# thus, it will take much longer (xN)\n",
    "pipe = Pipeline(\n",
    "    steps=[\n",
    "        #(\"processor\", processor),\n",
    "        (\"processor\", nlp_transformer),\n",
    "        (\"classifier\", MultiOutputClassifier(\n",
    "            RandomForestClassifier(**config[\"random_forest_parameters\"]))),\n",
    "        #(\"classifier\", RandomForestClassifier(**config[\"random_forest_parameters\"])),\n",
    "    ]\n",
    ")"
   ]
  },
  {
   "cell_type": "markdown",
   "metadata": {},
   "source": [
    "### 4. Train pipeline\n",
    "- Split data into train and test sets\n",
    "- Train pipeline"
   ]
  },
  {
   "cell_type": "code",
   "execution_count": 374,
   "metadata": {
    "tags": []
   },
   "outputs": [],
   "source": [
    "# Connect to database\n",
    "engine = create_engine(f\"sqlite:///../data/DisasterResponse.db\")\n",
    "# Run SELECT * query; WATCH OUT: Using this SQL query text requires sqlalchemy<2.0\n",
    "df = pd.read_sql(\"SELECT * FROM Message\", engine)"
   ]
  },
  {
   "cell_type": "code",
   "execution_count": 375,
   "metadata": {
    "tags": []
   },
   "outputs": [],
   "source": [
    "#X = df[config['nlp_columns']+config['categorical_columns']]\n",
    "X = df[config['nlp_columns']]\n",
    "Y = df[config['target_columns']]"
   ]
  },
  {
   "cell_type": "code",
   "execution_count": 376,
   "metadata": {
    "tags": []
   },
   "outputs": [],
   "source": [
    "X_train, X_test, Y_train, Y_test = train_test_split(X,\n",
    "                                                    Y,\n",
    "                                                    test_size=config[\"test_size\"],\n",
    "                                                    random_state=config[\"random_seed\"])"
   ]
  },
  {
   "cell_type": "code",
   "execution_count": 377,
   "metadata": {
    "tags": []
   },
   "outputs": [
    {
     "data": {
      "text/html": [
       "<style>#sk-container-id-7 {color: black;background-color: white;}#sk-container-id-7 pre{padding: 0;}#sk-container-id-7 div.sk-toggleable {background-color: white;}#sk-container-id-7 label.sk-toggleable__label {cursor: pointer;display: block;width: 100%;margin-bottom: 0;padding: 0.3em;box-sizing: border-box;text-align: center;}#sk-container-id-7 label.sk-toggleable__label-arrow:before {content: \"▸\";float: left;margin-right: 0.25em;color: #696969;}#sk-container-id-7 label.sk-toggleable__label-arrow:hover:before {color: black;}#sk-container-id-7 div.sk-estimator:hover label.sk-toggleable__label-arrow:before {color: black;}#sk-container-id-7 div.sk-toggleable__content {max-height: 0;max-width: 0;overflow: hidden;text-align: left;background-color: #f0f8ff;}#sk-container-id-7 div.sk-toggleable__content pre {margin: 0.2em;color: black;border-radius: 0.25em;background-color: #f0f8ff;}#sk-container-id-7 input.sk-toggleable__control:checked~div.sk-toggleable__content {max-height: 200px;max-width: 100%;overflow: auto;}#sk-container-id-7 input.sk-toggleable__control:checked~label.sk-toggleable__label-arrow:before {content: \"▾\";}#sk-container-id-7 div.sk-estimator input.sk-toggleable__control:checked~label.sk-toggleable__label {background-color: #d4ebff;}#sk-container-id-7 div.sk-label input.sk-toggleable__control:checked~label.sk-toggleable__label {background-color: #d4ebff;}#sk-container-id-7 input.sk-hidden--visually {border: 0;clip: rect(1px 1px 1px 1px);clip: rect(1px, 1px, 1px, 1px);height: 1px;margin: -1px;overflow: hidden;padding: 0;position: absolute;width: 1px;}#sk-container-id-7 div.sk-estimator {font-family: monospace;background-color: #f0f8ff;border: 1px dotted black;border-radius: 0.25em;box-sizing: border-box;margin-bottom: 0.5em;}#sk-container-id-7 div.sk-estimator:hover {background-color: #d4ebff;}#sk-container-id-7 div.sk-parallel-item::after {content: \"\";width: 100%;border-bottom: 1px solid gray;flex-grow: 1;}#sk-container-id-7 div.sk-label:hover label.sk-toggleable__label {background-color: #d4ebff;}#sk-container-id-7 div.sk-serial::before {content: \"\";position: absolute;border-left: 1px solid gray;box-sizing: border-box;top: 0;bottom: 0;left: 50%;z-index: 0;}#sk-container-id-7 div.sk-serial {display: flex;flex-direction: column;align-items: center;background-color: white;padding-right: 0.2em;padding-left: 0.2em;position: relative;}#sk-container-id-7 div.sk-item {position: relative;z-index: 1;}#sk-container-id-7 div.sk-parallel {display: flex;align-items: stretch;justify-content: center;background-color: white;position: relative;}#sk-container-id-7 div.sk-item::before, #sk-container-id-7 div.sk-parallel-item::before {content: \"\";position: absolute;border-left: 1px solid gray;box-sizing: border-box;top: 0;bottom: 0;left: 50%;z-index: -1;}#sk-container-id-7 div.sk-parallel-item {display: flex;flex-direction: column;z-index: 1;position: relative;background-color: white;}#sk-container-id-7 div.sk-parallel-item:first-child::after {align-self: flex-end;width: 50%;}#sk-container-id-7 div.sk-parallel-item:last-child::after {align-self: flex-start;width: 50%;}#sk-container-id-7 div.sk-parallel-item:only-child::after {width: 0;}#sk-container-id-7 div.sk-dashed-wrapped {border: 1px dashed gray;margin: 0 0.4em 0.5em 0.4em;box-sizing: border-box;padding-bottom: 0.4em;background-color: white;}#sk-container-id-7 div.sk-label label {font-family: monospace;font-weight: bold;display: inline-block;line-height: 1.2em;}#sk-container-id-7 div.sk-label-container {text-align: center;}#sk-container-id-7 div.sk-container {/* jupyter's `normalize.less` sets `[hidden] { display: none; }` but bootstrap.min.css set `[hidden] { display: none !important; }` so we also need the `!important` here to be able to override the default hidden behavior on the sphinx rendered scikit-learn.org. See: https://github.com/scikit-learn/scikit-learn/issues/21755 */display: inline-block !important;position: relative;}#sk-container-id-7 div.sk-text-repr-fallback {display: none;}</style><div id=\"sk-container-id-7\" class=\"sk-top-container\"><div class=\"sk-text-repr-fallback\"><pre>Pipeline(steps=[(&#x27;processor&#x27;,\n",
       "                 Pipeline(steps=[(&#x27;squeeze&#x27;,\n",
       "                                  FunctionTransformer(func=&lt;function squeeze at 0x1728d45e0&gt;)),\n",
       "                                 (&#x27;vect&#x27;,\n",
       "                                  CountVectorizer(token_pattern=None,\n",
       "                                                  tokenizer=&lt;function tokenize at 0x1728d43a0&gt;)),\n",
       "                                 (&#x27;tfidf&#x27;, TfidfTransformer()),\n",
       "                                 (&#x27;toarray&#x27;,\n",
       "                                  FunctionTransformer(func=&lt;function toarray at 0x1728f5af0&gt;))])),\n",
       "                (&#x27;classifier&#x27;,\n",
       "                 MultiOutputClassifier(estimator=RandomForestClassifier(class_weight=&#x27;balanced&#x27;,\n",
       "                                                                        max_depth=13,\n",
       "                                                                        random_state=42)))])</pre><b>In a Jupyter environment, please rerun this cell to show the HTML representation or trust the notebook. <br />On GitHub, the HTML representation is unable to render, please try loading this page with nbviewer.org.</b></div><div class=\"sk-container\" hidden><div class=\"sk-item sk-dashed-wrapped\"><div class=\"sk-label-container\"><div class=\"sk-label sk-toggleable\"><input class=\"sk-toggleable__control sk-hidden--visually\" id=\"sk-estimator-id-73\" type=\"checkbox\" ><label for=\"sk-estimator-id-73\" class=\"sk-toggleable__label sk-toggleable__label-arrow\">Pipeline</label><div class=\"sk-toggleable__content\"><pre>Pipeline(steps=[(&#x27;processor&#x27;,\n",
       "                 Pipeline(steps=[(&#x27;squeeze&#x27;,\n",
       "                                  FunctionTransformer(func=&lt;function squeeze at 0x1728d45e0&gt;)),\n",
       "                                 (&#x27;vect&#x27;,\n",
       "                                  CountVectorizer(token_pattern=None,\n",
       "                                                  tokenizer=&lt;function tokenize at 0x1728d43a0&gt;)),\n",
       "                                 (&#x27;tfidf&#x27;, TfidfTransformer()),\n",
       "                                 (&#x27;toarray&#x27;,\n",
       "                                  FunctionTransformer(func=&lt;function toarray at 0x1728f5af0&gt;))])),\n",
       "                (&#x27;classifier&#x27;,\n",
       "                 MultiOutputClassifier(estimator=RandomForestClassifier(class_weight=&#x27;balanced&#x27;,\n",
       "                                                                        max_depth=13,\n",
       "                                                                        random_state=42)))])</pre></div></div></div><div class=\"sk-serial\"><div class=\"sk-item\"><div class=\"sk-label-container\"><div class=\"sk-label sk-toggleable\"><input class=\"sk-toggleable__control sk-hidden--visually\" id=\"sk-estimator-id-74\" type=\"checkbox\" ><label for=\"sk-estimator-id-74\" class=\"sk-toggleable__label sk-toggleable__label-arrow\">processor: Pipeline</label><div class=\"sk-toggleable__content\"><pre>Pipeline(steps=[(&#x27;squeeze&#x27;,\n",
       "                 FunctionTransformer(func=&lt;function squeeze at 0x1728d45e0&gt;)),\n",
       "                (&#x27;vect&#x27;,\n",
       "                 CountVectorizer(token_pattern=None,\n",
       "                                 tokenizer=&lt;function tokenize at 0x1728d43a0&gt;)),\n",
       "                (&#x27;tfidf&#x27;, TfidfTransformer()),\n",
       "                (&#x27;toarray&#x27;,\n",
       "                 FunctionTransformer(func=&lt;function toarray at 0x1728f5af0&gt;))])</pre></div></div></div><div class=\"sk-serial\"><div class=\"sk-item\"><div class=\"sk-estimator sk-toggleable\"><input class=\"sk-toggleable__control sk-hidden--visually\" id=\"sk-estimator-id-75\" type=\"checkbox\" ><label for=\"sk-estimator-id-75\" class=\"sk-toggleable__label sk-toggleable__label-arrow\">FunctionTransformer</label><div class=\"sk-toggleable__content\"><pre>FunctionTransformer(func=&lt;function squeeze at 0x1728d45e0&gt;)</pre></div></div></div><div class=\"sk-item\"><div class=\"sk-estimator sk-toggleable\"><input class=\"sk-toggleable__control sk-hidden--visually\" id=\"sk-estimator-id-76\" type=\"checkbox\" ><label for=\"sk-estimator-id-76\" class=\"sk-toggleable__label sk-toggleable__label-arrow\">CountVectorizer</label><div class=\"sk-toggleable__content\"><pre>CountVectorizer(token_pattern=None,\n",
       "                tokenizer=&lt;function tokenize at 0x1728d43a0&gt;)</pre></div></div></div><div class=\"sk-item\"><div class=\"sk-estimator sk-toggleable\"><input class=\"sk-toggleable__control sk-hidden--visually\" id=\"sk-estimator-id-77\" type=\"checkbox\" ><label for=\"sk-estimator-id-77\" class=\"sk-toggleable__label sk-toggleable__label-arrow\">TfidfTransformer</label><div class=\"sk-toggleable__content\"><pre>TfidfTransformer()</pre></div></div></div><div class=\"sk-item\"><div class=\"sk-estimator sk-toggleable\"><input class=\"sk-toggleable__control sk-hidden--visually\" id=\"sk-estimator-id-78\" type=\"checkbox\" ><label for=\"sk-estimator-id-78\" class=\"sk-toggleable__label sk-toggleable__label-arrow\">FunctionTransformer</label><div class=\"sk-toggleable__content\"><pre>FunctionTransformer(func=&lt;function toarray at 0x1728f5af0&gt;)</pre></div></div></div></div></div><div class=\"sk-item sk-dashed-wrapped\"><div class=\"sk-label-container\"><div class=\"sk-label sk-toggleable\"><input class=\"sk-toggleable__control sk-hidden--visually\" id=\"sk-estimator-id-79\" type=\"checkbox\" ><label for=\"sk-estimator-id-79\" class=\"sk-toggleable__label sk-toggleable__label-arrow\">classifier: MultiOutputClassifier</label><div class=\"sk-toggleable__content\"><pre>MultiOutputClassifier(estimator=RandomForestClassifier(class_weight=&#x27;balanced&#x27;,\n",
       "                                                       max_depth=13,\n",
       "                                                       random_state=42))</pre></div></div></div><div class=\"sk-parallel\"><div class=\"sk-parallel-item\"><div class=\"sk-item\"><div class=\"sk-label-container\"><div class=\"sk-label sk-toggleable\"><input class=\"sk-toggleable__control sk-hidden--visually\" id=\"sk-estimator-id-80\" type=\"checkbox\" ><label for=\"sk-estimator-id-80\" class=\"sk-toggleable__label sk-toggleable__label-arrow\">estimator: RandomForestClassifier</label><div class=\"sk-toggleable__content\"><pre>RandomForestClassifier(class_weight=&#x27;balanced&#x27;, max_depth=13, random_state=42)</pre></div></div></div><div class=\"sk-serial\"><div class=\"sk-item\"><div class=\"sk-estimator sk-toggleable\"><input class=\"sk-toggleable__control sk-hidden--visually\" id=\"sk-estimator-id-81\" type=\"checkbox\" ><label for=\"sk-estimator-id-81\" class=\"sk-toggleable__label sk-toggleable__label-arrow\">RandomForestClassifier</label><div class=\"sk-toggleable__content\"><pre>RandomForestClassifier(class_weight=&#x27;balanced&#x27;, max_depth=13, random_state=42)</pre></div></div></div></div></div></div></div></div></div></div></div></div>"
      ],
      "text/plain": [
       "Pipeline(steps=[('processor',\n",
       "                 Pipeline(steps=[('squeeze',\n",
       "                                  FunctionTransformer(func=<function squeeze at 0x1728d45e0>)),\n",
       "                                 ('vect',\n",
       "                                  CountVectorizer(token_pattern=None,\n",
       "                                                  tokenizer=<function tokenize at 0x1728d43a0>)),\n",
       "                                 ('tfidf', TfidfTransformer()),\n",
       "                                 ('toarray',\n",
       "                                  FunctionTransformer(func=<function toarray at 0x1728f5af0>))])),\n",
       "                ('classifier',\n",
       "                 MultiOutputClassifier(estimator=RandomForestClassifier(class_weight='balanced',\n",
       "                                                                        max_depth=13,\n",
       "                                                                        random_state=42)))])"
      ]
     },
     "execution_count": 377,
     "metadata": {},
     "output_type": "execute_result"
    }
   ],
   "source": [
    "#pipe.fit(X_train, Y_train['aid_related'])\n",
    "pipe.fit(X_train, Y_train)"
   ]
  },
  {
   "cell_type": "markdown",
   "metadata": {},
   "source": [
    "### 5. Test your model\n",
    "Report the f1 score, precision and recall for each output category of the dataset. You can do this by iterating through the columns and calling sklearn's `classification_report` on each."
   ]
  },
  {
   "cell_type": "code",
   "execution_count": 383,
   "metadata": {
    "tags": []
   },
   "outputs": [],
   "source": [
    "Y_pred = pipe.predict(X_test)"
   ]
  },
  {
   "cell_type": "code",
   "execution_count": 384,
   "metadata": {
    "tags": []
   },
   "outputs": [],
   "source": [
    "from sklearn.metrics import classification_report, confusion_matrix, precision_recall_fscore_support"
   ]
  },
  {
   "cell_type": "code",
   "execution_count": 385,
   "metadata": {
    "tags": []
   },
   "outputs": [
    {
     "name": "stdout",
     "output_type": "stream",
     "text": [
      "\n",
      "Target column: related\n",
      "              precision    recall  f1-score   support\n",
      "\n",
      "           0       0.49      0.62      0.54      1266\n",
      "           1       0.86      0.78      0.82      3938\n",
      "           2       0.34      0.75      0.47        40\n",
      "\n",
      "    accuracy                           0.74      5244\n",
      "   macro avg       0.56      0.72      0.61      5244\n",
      "weighted avg       0.77      0.74      0.75      5244\n",
      "\n",
      "\n",
      "Target column: request\n",
      "              precision    recall  f1-score   support\n",
      "\n",
      "           0       0.94      0.89      0.91      4349\n",
      "           1       0.57      0.72      0.64       895\n",
      "\n",
      "    accuracy                           0.86      5244\n",
      "   macro avg       0.76      0.80      0.78      5244\n",
      "weighted avg       0.88      0.86      0.87      5244\n",
      "\n",
      "\n",
      "Target column: offer\n",
      "              precision    recall  f1-score   support\n",
      "\n",
      "           0       1.00      1.00      1.00      5218\n",
      "           1       0.00      0.00      0.00        26\n",
      "\n",
      "    accuracy                           0.99      5244\n",
      "   macro avg       0.50      0.50      0.50      5244\n",
      "weighted avg       0.99      0.99      0.99      5244\n",
      "\n",
      "\n",
      "Target column: aid_related\n",
      "              precision    recall  f1-score   support\n",
      "\n",
      "           0       0.78      0.82      0.80      3113\n",
      "           1       0.72      0.67      0.70      2131\n",
      "\n",
      "    accuracy                           0.76      5244\n",
      "   macro avg       0.75      0.75      0.75      5244\n",
      "weighted avg       0.76      0.76      0.76      5244\n",
      "\n",
      "\n",
      "Target column: medical_help\n",
      "              precision    recall  f1-score   support\n",
      "\n",
      "           0       0.96      0.92      0.94      4822\n",
      "           1       0.39      0.56      0.46       422\n",
      "\n",
      "    accuracy                           0.89      5244\n",
      "   macro avg       0.68      0.74      0.70      5244\n",
      "weighted avg       0.91      0.89      0.90      5244\n",
      "\n",
      "\n",
      "Target column: medical_products\n",
      "              precision    recall  f1-score   support\n",
      "\n",
      "           0       0.97      0.95      0.96      4974\n",
      "           1       0.34      0.51      0.41       270\n",
      "\n",
      "    accuracy                           0.92      5244\n",
      "   macro avg       0.66      0.73      0.69      5244\n",
      "weighted avg       0.94      0.92      0.93      5244\n",
      "\n",
      "\n",
      "Target column: search_and_rescue\n",
      "              precision    recall  f1-score   support\n",
      "\n",
      "           0       0.98      0.98      0.98      5117\n",
      "           1       0.25      0.31      0.28       127\n",
      "\n",
      "    accuracy                           0.96      5244\n",
      "   macro avg       0.62      0.64      0.63      5244\n",
      "weighted avg       0.97      0.96      0.96      5244\n",
      "\n",
      "\n",
      "Target column: security\n",
      "              precision    recall  f1-score   support\n",
      "\n",
      "           0       0.98      0.99      0.99      5156\n",
      "           1       0.14      0.09      0.11        88\n",
      "\n",
      "    accuracy                           0.98      5244\n",
      "   macro avg       0.56      0.54      0.55      5244\n",
      "weighted avg       0.97      0.98      0.97      5244\n",
      "\n",
      "\n",
      "Target column: military\n",
      "              precision    recall  f1-score   support\n",
      "\n",
      "           0       0.99      0.93      0.96      5089\n",
      "           1       0.21      0.58      0.31       155\n",
      "\n",
      "    accuracy                           0.92      5244\n",
      "   macro avg       0.60      0.76      0.63      5244\n",
      "weighted avg       0.96      0.92      0.94      5244\n",
      "\n",
      "\n",
      "Target column: child_alone\n",
      "              precision    recall  f1-score   support\n",
      "\n",
      "           0       1.00      1.00      1.00      5244\n",
      "\n",
      "    accuracy                           1.00      5244\n",
      "   macro avg       1.00      1.00      1.00      5244\n",
      "weighted avg       1.00      1.00      1.00      5244\n",
      "\n",
      "\n",
      "Target column: water\n",
      "              precision    recall  f1-score   support\n",
      "\n",
      "           0       0.98      0.95      0.97      4905\n",
      "           1       0.51      0.74      0.61       339\n",
      "\n",
      "    accuracy                           0.94      5244\n",
      "   macro avg       0.75      0.85      0.79      5244\n",
      "weighted avg       0.95      0.94      0.94      5244\n",
      "\n",
      "\n",
      "Target column: food\n",
      "              precision    recall  f1-score   support\n",
      "\n",
      "           0       0.97      0.94      0.95      4649\n",
      "           1       0.60      0.74      0.67       595\n",
      "\n",
      "    accuracy                           0.92      5244\n",
      "   macro avg       0.78      0.84      0.81      5244\n",
      "weighted avg       0.92      0.92      0.92      5244\n",
      "\n",
      "\n",
      "Target column: shelter\n",
      "              precision    recall  f1-score   support\n",
      "\n",
      "           0       0.97      0.93      0.95      4774\n",
      "           1       0.49      0.67      0.56       470\n",
      "\n",
      "    accuracy                           0.91      5244\n",
      "   macro avg       0.73      0.80      0.76      5244\n",
      "weighted avg       0.92      0.91      0.91      5244\n",
      "\n",
      "\n",
      "Target column: clothing\n",
      "              precision    recall  f1-score   support\n",
      "\n",
      "           0       0.99      0.99      0.99      5171\n",
      "           1       0.32      0.44      0.37        73\n",
      "\n",
      "    accuracy                           0.98      5244\n",
      "   macro avg       0.65      0.71      0.68      5244\n",
      "weighted avg       0.98      0.98      0.98      5244\n",
      "\n",
      "\n",
      "Target column: money\n",
      "              precision    recall  f1-score   support\n",
      "\n",
      "           0       0.99      0.98      0.99      5140\n",
      "           1       0.32      0.36      0.34       104\n",
      "\n",
      "    accuracy                           0.97      5244\n",
      "   macro avg       0.65      0.67      0.66      5244\n",
      "weighted avg       0.97      0.97      0.97      5244\n",
      "\n",
      "\n",
      "Target column: missing_people\n",
      "              precision    recall  f1-score   support\n",
      "\n",
      "           0       0.99      1.00      0.99      5184\n",
      "           1       0.38      0.08      0.14        60\n",
      "\n",
      "    accuracy                           0.99      5244\n",
      "   macro avg       0.69      0.54      0.57      5244\n",
      "weighted avg       0.98      0.99      0.98      5244\n",
      "\n",
      "\n",
      "Target column: refugees\n",
      "              precision    recall  f1-score   support\n",
      "\n",
      "           0       0.98      0.96      0.97      5073\n",
      "           1       0.26      0.41      0.32       171\n",
      "\n",
      "    accuracy                           0.94      5244\n",
      "   macro avg       0.62      0.69      0.65      5244\n",
      "weighted avg       0.96      0.94      0.95      5244\n",
      "\n",
      "\n",
      "Target column: death\n",
      "              precision    recall  f1-score   support\n",
      "\n",
      "           0       0.98      0.97      0.97      5007\n",
      "           1       0.43      0.54      0.47       237\n",
      "\n",
      "    accuracy                           0.95      5244\n",
      "   macro avg       0.70      0.75      0.72      5244\n",
      "weighted avg       0.95      0.95      0.95      5244\n",
      "\n",
      "\n",
      "Target column: other_aid\n",
      "              precision    recall  f1-score   support\n",
      "\n",
      "           0       0.91      0.87      0.89      4549\n",
      "           1       0.34      0.45      0.39       695\n",
      "\n",
      "    accuracy                           0.81      5244\n",
      "   macro avg       0.63      0.66      0.64      5244\n",
      "weighted avg       0.84      0.81      0.82      5244\n",
      "\n",
      "\n",
      "Target column: infrastructure_related\n",
      "              precision    recall  f1-score   support\n",
      "\n",
      "           0       0.96      0.88      0.92      4916\n",
      "           1       0.20      0.47      0.28       328\n",
      "\n",
      "    accuracy                           0.85      5244\n",
      "   macro avg       0.58      0.67      0.60      5244\n",
      "weighted avg       0.91      0.85      0.88      5244\n",
      "\n",
      "\n",
      "Target column: transport\n",
      "              precision    recall  f1-score   support\n",
      "\n",
      "           0       0.97      0.94      0.96      5004\n",
      "           1       0.25      0.44      0.32       240\n",
      "\n",
      "    accuracy                           0.92      5244\n",
      "   macro avg       0.61      0.69      0.64      5244\n",
      "weighted avg       0.94      0.92      0.93      5244\n",
      "\n",
      "\n",
      "Target column: buildings\n",
      "              precision    recall  f1-score   support\n",
      "\n",
      "           0       0.97      0.96      0.97      4977\n",
      "           1       0.38      0.46      0.42       267\n",
      "\n",
      "    accuracy                           0.93      5244\n",
      "   macro avg       0.68      0.71      0.69      5244\n",
      "weighted avg       0.94      0.93      0.94      5244\n",
      "\n",
      "\n",
      "Target column: electricity\n",
      "              precision    recall  f1-score   support\n",
      "\n",
      "           0       0.98      0.99      0.99      5122\n",
      "           1       0.46      0.30      0.36       122\n",
      "\n",
      "    accuracy                           0.98      5244\n",
      "   macro avg       0.72      0.65      0.68      5244\n",
      "weighted avg       0.97      0.98      0.97      5244\n",
      "\n",
      "\n",
      "Target column: tools\n",
      "              precision    recall  f1-score   support\n",
      "\n",
      "           0       0.99      1.00      1.00      5212\n",
      "           1       0.00      0.00      0.00        32\n",
      "\n",
      "    accuracy                           0.99      5244\n",
      "   macro avg       0.50      0.50      0.50      5244\n",
      "weighted avg       0.99      0.99      0.99      5244\n",
      "\n",
      "\n",
      "Target column: hospitals\n",
      "              precision    recall  f1-score   support\n",
      "\n",
      "           0       0.99      1.00      1.00      5198\n",
      "           1       0.14      0.02      0.04        46\n",
      "\n",
      "    accuracy                           0.99      5244\n",
      "   macro avg       0.57      0.51      0.52      5244\n",
      "weighted avg       0.98      0.99      0.99      5244\n",
      "\n",
      "\n",
      "Target column: shops\n",
      "              precision    recall  f1-score   support\n",
      "\n",
      "           0       1.00      1.00      1.00      5222\n",
      "           1       0.00      0.00      0.00        22\n",
      "\n",
      "    accuracy                           1.00      5244\n",
      "   macro avg       0.50      0.50      0.50      5244\n",
      "weighted avg       0.99      1.00      0.99      5244\n",
      "\n",
      "\n",
      "Target column: aid_centers\n",
      "              precision    recall  f1-score   support\n",
      "\n",
      "           0       0.99      1.00      0.99      5177\n",
      "           1       0.22      0.06      0.09        67\n",
      "\n",
      "    accuracy                           0.99      5244\n",
      "   macro avg       0.61      0.53      0.54      5244\n",
      "weighted avg       0.98      0.99      0.98      5244\n",
      "\n",
      "\n",
      "Target column: other_infrastructure\n",
      "              precision    recall  f1-score   support\n",
      "\n",
      "           0       0.97      0.90      0.93      5021\n",
      "           1       0.15      0.39      0.21       223\n",
      "\n",
      "    accuracy                           0.88      5244\n",
      "   macro avg       0.56      0.64      0.57      5244\n",
      "weighted avg       0.94      0.88      0.90      5244\n",
      "\n",
      "\n",
      "Target column: weather_related\n",
      "              precision    recall  f1-score   support\n",
      "\n",
      "           0       0.89      0.86      0.88      3806\n",
      "           1       0.66      0.71      0.69      1438\n",
      "\n",
      "    accuracy                           0.82      5244\n",
      "   macro avg       0.78      0.79      0.78      5244\n",
      "weighted avg       0.83      0.82      0.82      5244\n",
      "\n",
      "\n",
      "Target column: floods\n",
      "              precision    recall  f1-score   support\n",
      "\n",
      "           0       0.97      0.90      0.93      4833\n",
      "           1       0.36      0.66      0.47       411\n",
      "\n",
      "    accuracy                           0.88      5244\n",
      "   macro avg       0.66      0.78      0.70      5244\n",
      "weighted avg       0.92      0.88      0.90      5244\n",
      "\n",
      "\n",
      "Target column: storm\n",
      "              precision    recall  f1-score   support\n",
      "\n",
      "           0       0.96      0.94      0.95      4758\n",
      "           1       0.54      0.66      0.59       486\n",
      "\n",
      "    accuracy                           0.92      5244\n",
      "   macro avg       0.75      0.80      0.77      5244\n",
      "weighted avg       0.92      0.92      0.92      5244\n",
      "\n",
      "\n",
      "Target column: fire\n",
      "              precision    recall  f1-score   support\n",
      "\n",
      "           0       0.99      1.00      1.00      5191\n",
      "           1       0.73      0.21      0.32        53\n",
      "\n",
      "    accuracy                           0.99      5244\n",
      "   macro avg       0.86      0.60      0.66      5244\n",
      "weighted avg       0.99      0.99      0.99      5244\n",
      "\n",
      "\n",
      "Target column: earthquake\n",
      "              precision    recall  f1-score   support\n",
      "\n",
      "           0       0.97      0.98      0.98      4766\n",
      "           1       0.77      0.73      0.75       478\n",
      "\n",
      "    accuracy                           0.96      5244\n",
      "   macro avg       0.87      0.86      0.86      5244\n",
      "weighted avg       0.96      0.96      0.96      5244\n",
      "\n",
      "\n",
      "Target column: cold\n",
      "              precision    recall  f1-score   support\n",
      "\n",
      "           0       0.99      0.99      0.99      5127\n",
      "           1       0.48      0.36      0.41       117\n",
      "\n",
      "    accuracy                           0.98      5244\n",
      "   macro avg       0.73      0.68      0.70      5244\n",
      "weighted avg       0.97      0.98      0.98      5244\n",
      "\n",
      "\n",
      "Target column: other_weather\n",
      "              precision    recall  f1-score   support\n",
      "\n",
      "           0       0.97      0.87      0.92      4968\n",
      "           1       0.18      0.51      0.26       276\n",
      "\n",
      "    accuracy                           0.85      5244\n",
      "   macro avg       0.57      0.69      0.59      5244\n",
      "weighted avg       0.93      0.85      0.88      5244\n",
      "\n",
      "\n",
      "Target column: direct_report\n",
      "              precision    recall  f1-score   support\n",
      "\n",
      "           0       0.91      0.85      0.88      4223\n",
      "           1       0.52      0.65      0.58      1021\n",
      "\n",
      "    accuracy                           0.81      5244\n",
      "   macro avg       0.71      0.75      0.73      5244\n",
      "weighted avg       0.83      0.81      0.82      5244\n",
      "\n"
     ]
    },
    {
     "name": "stderr",
     "output_type": "stream",
     "text": [
      "/Users/mxagar/opt/anaconda3/envs/dis-res/lib/python3.9/site-packages/sklearn/metrics/_classification.py:1344: UndefinedMetricWarning: Precision and F-score are ill-defined and being set to 0.0 in labels with no predicted samples. Use `zero_division` parameter to control this behavior.\n",
      "  _warn_prf(average, modifier, msg_start, len(result))\n",
      "/Users/mxagar/opt/anaconda3/envs/dis-res/lib/python3.9/site-packages/sklearn/metrics/_classification.py:1344: UndefinedMetricWarning: Precision and F-score are ill-defined and being set to 0.0 in labels with no predicted samples. Use `zero_division` parameter to control this behavior.\n",
      "  _warn_prf(average, modifier, msg_start, len(result))\n",
      "/Users/mxagar/opt/anaconda3/envs/dis-res/lib/python3.9/site-packages/sklearn/metrics/_classification.py:1344: UndefinedMetricWarning: Precision and F-score are ill-defined and being set to 0.0 in labels with no predicted samples. Use `zero_division` parameter to control this behavior.\n",
      "  _warn_prf(average, modifier, msg_start, len(result))\n",
      "/Users/mxagar/opt/anaconda3/envs/dis-res/lib/python3.9/site-packages/sklearn/metrics/_classification.py:1344: UndefinedMetricWarning: Precision and F-score are ill-defined and being set to 0.0 in labels with no predicted samples. Use `zero_division` parameter to control this behavior.\n",
      "  _warn_prf(average, modifier, msg_start, len(result))\n",
      "/Users/mxagar/opt/anaconda3/envs/dis-res/lib/python3.9/site-packages/sklearn/metrics/_classification.py:1344: UndefinedMetricWarning: Precision and F-score are ill-defined and being set to 0.0 in labels with no predicted samples. Use `zero_division` parameter to control this behavior.\n",
      "  _warn_prf(average, modifier, msg_start, len(result))\n",
      "/Users/mxagar/opt/anaconda3/envs/dis-res/lib/python3.9/site-packages/sklearn/metrics/_classification.py:1344: UndefinedMetricWarning: Precision and F-score are ill-defined and being set to 0.0 in labels with no predicted samples. Use `zero_division` parameter to control this behavior.\n",
      "  _warn_prf(average, modifier, msg_start, len(result))\n"
     ]
    }
   ],
   "source": [
    "for i in range(len(Y_test.columns)):\n",
    "    print(f\"\\nTarget column: {Y_test.columns[i]}\")\n",
    "    print(classification_report(Y_test.iloc[:,i],Y_pred[:,i]))"
   ]
  },
  {
   "cell_type": "code",
   "execution_count": 390,
   "metadata": {
    "tags": []
   },
   "outputs": [],
   "source": [
    "import joblib\n",
    "import skops.io as sio"
   ]
  },
  {
   "cell_type": "code",
   "execution_count": 392,
   "metadata": {
    "tags": []
   },
   "outputs": [],
   "source": [
    "model_artifact = \"../models/classifier.pkl\"\n",
    "with open(model_artifact, 'wb') as f:\n",
    "    # wb: write bytes\n",
    "    sio.dump(pipe, f)"
   ]
  },
  {
   "cell_type": "code",
   "execution_count": 394,
   "metadata": {
    "tags": []
   },
   "outputs": [],
   "source": [
    "with open(model_artifact, 'rb') as f: # 'models/classifier.pkl'\n",
    "    model = sio.load(f, trusted=True)"
   ]
  },
  {
   "cell_type": "code",
   "execution_count": 395,
   "metadata": {
    "tags": []
   },
   "outputs": [
    {
     "data": {
      "text/plain": [
       "array([[0, 0, 0, ..., 0, 0, 0],\n",
       "       [1, 0, 0, ..., 0, 0, 0],\n",
       "       [1, 0, 0, ..., 0, 1, 0],\n",
       "       ...,\n",
       "       [1, 0, 0, ..., 0, 1, 0],\n",
       "       [0, 0, 0, ..., 0, 0, 0],\n",
       "       [0, 1, 0, ..., 0, 0, 1]])"
      ]
     },
     "execution_count": 395,
     "metadata": {},
     "output_type": "execute_result"
    }
   ],
   "source": [
    "model.predict(X_test)"
   ]
  },
  {
   "cell_type": "markdown",
   "metadata": {},
   "source": [
    "### 6. Improve your model\n",
    "Use grid search to find better parameters. "
   ]
  },
  {
   "cell_type": "code",
   "execution_count": 245,
   "metadata": {
    "tags": []
   },
   "outputs": [],
   "source": [
    "#parameters = {\n",
    "#    'features__text_pipeline__vect__ngram_range': ((1, 1), (1, 2)),\n",
    "#    'clf__n_estimators': [50, 100, 200],\n",
    "#    'clf__min_samples_split': [2, 3, 4]\n",
    "#}'\n",
    "param_grid = {\n",
    "    'classifier__estimator__n_estimators': config[\"grid_search\"][\"hyperparameters\"][\"n_estimators\"], # 100, 200\n",
    "    'classifier__estimator__min_samples_split': config[\"grid_search\"][\"hyperparameters\"][\"min_samples_split\"] # 2, 3\n",
    "}\n",
    "grid = GridSearchCV(pipe,\n",
    "                    param_grid=param_grid,\n",
    "                    #scoring=config[\"grid_search\"][\"scoring\"], # \"f1\"\n",
    "                    cv=config[\"grid_search\"][\"cv\"]) # 3"
   ]
  },
  {
   "cell_type": "code",
   "execution_count": null,
   "metadata": {
    "tags": []
   },
   "outputs": [],
   "source": [
    "grid = grid.fit(X_train, Y_train)"
   ]
  },
  {
   "cell_type": "code",
   "execution_count": 200,
   "metadata": {
    "tags": []
   },
   "outputs": [],
   "source": []
  },
  {
   "cell_type": "code",
   "execution_count": null,
   "metadata": {},
   "outputs": [],
   "source": []
  },
  {
   "cell_type": "markdown",
   "metadata": {},
   "source": [
    "### 7. Test your model\n",
    "Show the accuracy, precision, and recall of the tuned model.  \n",
    "\n",
    "Since this project focuses on code quality, process, and  pipelines, there is no minimum performance metric needed to pass. However, make sure to fine tune your models for accuracy, precision and recall to make your project stand out - especially for your portfolio!"
   ]
  },
  {
   "cell_type": "code",
   "execution_count": 201,
   "metadata": {
    "tags": []
   },
   "outputs": [],
   "source": [
    "Y_pred = grid.predict(X_test)"
   ]
  },
  {
   "cell_type": "code",
   "execution_count": 206,
   "metadata": {
    "tags": []
   },
   "outputs": [
    {
     "name": "stdout",
     "output_type": "stream",
     "text": [
      "\n",
      "Target column: related\n",
      "              precision    recall  f1-score   support\n",
      "\n",
      "           0       0.50      0.57      0.53      1254\n",
      "           1       0.86      0.80      0.83      3952\n",
      "           2       0.20      0.79      0.32        38\n",
      "\n",
      "    accuracy                           0.74      5244\n",
      "   macro avg       0.52      0.72      0.56      5244\n",
      "weighted avg       0.77      0.74      0.75      5244\n",
      "\n",
      "\n",
      "Target column: request\n",
      "              precision    recall  f1-score   support\n",
      "\n",
      "           0       0.95      0.85      0.89      4345\n",
      "           1       0.51      0.77      0.61       899\n",
      "\n",
      "    accuracy                           0.83      5244\n",
      "   macro avg       0.73      0.81      0.75      5244\n",
      "weighted avg       0.87      0.83      0.85      5244\n",
      "\n",
      "\n",
      "Target column: offer\n",
      "              precision    recall  f1-score   support\n",
      "\n",
      "           0       1.00      1.00      1.00      5222\n",
      "           1       0.10      0.05      0.06        22\n",
      "\n",
      "    accuracy                           0.99      5244\n",
      "   macro avg       0.55      0.52      0.53      5244\n",
      "weighted avg       0.99      0.99      0.99      5244\n",
      "\n",
      "\n",
      "Target column: aid_related\n",
      "              precision    recall  f1-score   support\n",
      "\n",
      "           0       0.80      0.80      0.80      3124\n",
      "           1       0.70      0.70      0.70      2120\n",
      "\n",
      "    accuracy                           0.76      5244\n",
      "   macro avg       0.75      0.75      0.75      5244\n",
      "weighted avg       0.76      0.76      0.76      5244\n",
      "\n",
      "\n",
      "Target column: medical_help\n",
      "              precision    recall  f1-score   support\n",
      "\n",
      "           0       0.96      0.91      0.93      4864\n",
      "           1       0.31      0.55      0.40       380\n",
      "\n",
      "    accuracy                           0.88      5244\n",
      "   macro avg       0.64      0.73      0.67      5244\n",
      "weighted avg       0.92      0.88      0.89      5244\n",
      "\n",
      "\n",
      "Target column: medical_products\n",
      "              precision    recall  f1-score   support\n",
      "\n",
      "           0       0.98      0.94      0.96      5020\n",
      "           1       0.29      0.54      0.37       224\n",
      "\n",
      "    accuracy                           0.92      5244\n",
      "   macro avg       0.63      0.74      0.67      5244\n",
      "weighted avg       0.95      0.92      0.93      5244\n",
      "\n",
      "\n",
      "Target column: search_and_rescue\n",
      "              precision    recall  f1-score   support\n",
      "\n",
      "           0       0.98      0.99      0.98      5110\n",
      "           1       0.33      0.22      0.26       134\n",
      "\n",
      "    accuracy                           0.97      5244\n",
      "   macro avg       0.66      0.60      0.62      5244\n",
      "weighted avg       0.96      0.97      0.97      5244\n",
      "\n",
      "\n",
      "Target column: security\n",
      "              precision    recall  f1-score   support\n",
      "\n",
      "           0       0.98      0.99      0.99      5149\n",
      "           1       0.19      0.11      0.14        95\n",
      "\n",
      "    accuracy                           0.98      5244\n",
      "   macro avg       0.59      0.55      0.56      5244\n",
      "weighted avg       0.97      0.98      0.97      5244\n",
      "\n",
      "\n",
      "Target column: military\n",
      "              precision    recall  f1-score   support\n",
      "\n",
      "           0       0.99      0.91      0.95      5071\n",
      "           1       0.22      0.74      0.34       173\n",
      "\n",
      "    accuracy                           0.91      5244\n",
      "   macro avg       0.61      0.83      0.64      5244\n",
      "weighted avg       0.96      0.91      0.93      5244\n",
      "\n",
      "\n",
      "Target column: child_alone\n",
      "              precision    recall  f1-score   support\n",
      "\n",
      "           0       1.00      1.00      1.00      5244\n",
      "\n",
      "    accuracy                           1.00      5244\n",
      "   macro avg       1.00      1.00      1.00      5244\n",
      "weighted avg       1.00      1.00      1.00      5244\n",
      "\n",
      "\n",
      "Target column: water\n",
      "              precision    recall  f1-score   support\n",
      "\n",
      "           0       0.98      0.95      0.97      4906\n",
      "           1       0.50      0.68      0.58       338\n",
      "\n",
      "    accuracy                           0.94      5244\n",
      "   macro avg       0.74      0.82      0.77      5244\n",
      "weighted avg       0.95      0.94      0.94      5244\n",
      "\n",
      "\n",
      "Target column: food\n",
      "              precision    recall  f1-score   support\n",
      "\n",
      "           0       0.97      0.93      0.95      4684\n",
      "           1       0.57      0.73      0.64       560\n",
      "\n",
      "    accuracy                           0.91      5244\n",
      "   macro avg       0.77      0.83      0.79      5244\n",
      "weighted avg       0.92      0.91      0.92      5244\n",
      "\n",
      "\n",
      "Target column: shelter\n",
      "              precision    recall  f1-score   support\n",
      "\n",
      "           0       0.96      0.93      0.95      4782\n",
      "           1       0.46      0.62      0.53       462\n",
      "\n",
      "    accuracy                           0.90      5244\n",
      "   macro avg       0.71      0.77      0.74      5244\n",
      "weighted avg       0.92      0.90      0.91      5244\n",
      "\n",
      "\n",
      "Target column: clothing\n",
      "              precision    recall  f1-score   support\n",
      "\n",
      "           0       0.99      0.98      0.99      5166\n",
      "           1       0.32      0.54      0.40        78\n",
      "\n",
      "    accuracy                           0.98      5244\n",
      "   macro avg       0.66      0.76      0.70      5244\n",
      "weighted avg       0.98      0.98      0.98      5244\n",
      "\n",
      "\n",
      "Target column: money\n",
      "              precision    recall  f1-score   support\n",
      "\n",
      "           0       0.98      0.99      0.99      5123\n",
      "           1       0.43      0.33      0.37       121\n",
      "\n",
      "    accuracy                           0.97      5244\n",
      "   macro avg       0.70      0.66      0.68      5244\n",
      "weighted avg       0.97      0.97      0.97      5244\n",
      "\n",
      "\n",
      "Target column: missing_people\n",
      "              precision    recall  f1-score   support\n",
      "\n",
      "           0       0.99      1.00      0.99      5176\n",
      "           1       0.62      0.15      0.24        68\n",
      "\n",
      "    accuracy                           0.99      5244\n",
      "   macro avg       0.81      0.57      0.62      5244\n",
      "weighted avg       0.98      0.99      0.98      5244\n",
      "\n",
      "\n",
      "Target column: refugees\n",
      "              precision    recall  f1-score   support\n",
      "\n",
      "           0       0.98      0.95      0.97      5079\n",
      "           1       0.21      0.42      0.28       165\n",
      "\n",
      "    accuracy                           0.93      5244\n",
      "   macro avg       0.60      0.68      0.62      5244\n",
      "weighted avg       0.96      0.93      0.94      5244\n",
      "\n",
      "\n",
      "Target column: death\n",
      "              precision    recall  f1-score   support\n",
      "\n",
      "           0       0.98      0.96      0.97      5025\n",
      "           1       0.32      0.45      0.37       219\n",
      "\n",
      "    accuracy                           0.94      5244\n",
      "   macro avg       0.65      0.70      0.67      5244\n",
      "weighted avg       0.95      0.94      0.94      5244\n",
      "\n",
      "\n",
      "Target column: other_aid\n",
      "              precision    recall  f1-score   support\n",
      "\n",
      "           0       0.92      0.88      0.90      4574\n",
      "           1       0.36      0.47      0.41       670\n",
      "\n",
      "    accuracy                           0.82      5244\n",
      "   macro avg       0.64      0.67      0.65      5244\n",
      "weighted avg       0.85      0.82      0.83      5244\n",
      "\n",
      "\n",
      "Target column: infrastructure_related\n",
      "              precision    recall  f1-score   support\n",
      "\n",
      "           0       0.96      0.83      0.89      4914\n",
      "           1       0.17      0.51      0.25       330\n",
      "\n",
      "    accuracy                           0.81      5244\n",
      "   macro avg       0.57      0.67      0.57      5244\n",
      "weighted avg       0.91      0.81      0.85      5244\n",
      "\n",
      "\n",
      "Target column: transport\n",
      "              precision    recall  f1-score   support\n",
      "\n",
      "           0       0.98      0.92      0.95      5014\n",
      "           1       0.23      0.50      0.32       230\n",
      "\n",
      "    accuracy                           0.91      5244\n",
      "   macro avg       0.60      0.71      0.63      5244\n",
      "weighted avg       0.94      0.91      0.92      5244\n",
      "\n",
      "\n",
      "Target column: buildings\n",
      "              precision    recall  f1-score   support\n",
      "\n",
      "           0       0.97      0.96      0.96      4973\n",
      "           1       0.38      0.50      0.43       271\n",
      "\n",
      "    accuracy                           0.93      5244\n",
      "   macro avg       0.68      0.73      0.70      5244\n",
      "weighted avg       0.94      0.93      0.94      5244\n",
      "\n",
      "\n",
      "Target column: electricity\n",
      "              precision    recall  f1-score   support\n",
      "\n",
      "           0       0.99      0.98      0.98      5142\n",
      "           1       0.25      0.27      0.26       102\n",
      "\n",
      "    accuracy                           0.97      5244\n",
      "   macro avg       0.62      0.63      0.62      5244\n",
      "weighted avg       0.97      0.97      0.97      5244\n",
      "\n",
      "\n",
      "Target column: tools\n",
      "              precision    recall  f1-score   support\n",
      "\n",
      "           0       1.00      1.00      1.00      5222\n",
      "           1       0.00      0.00      0.00        22\n",
      "\n",
      "    accuracy                           1.00      5244\n",
      "   macro avg       0.50      0.50      0.50      5244\n",
      "weighted avg       0.99      1.00      0.99      5244\n",
      "\n",
      "\n",
      "Target column: hospitals\n",
      "              precision    recall  f1-score   support\n",
      "\n",
      "           0       0.99      1.00      0.99      5178\n",
      "           1       0.20      0.06      0.09        66\n",
      "\n",
      "    accuracy                           0.99      5244\n",
      "   macro avg       0.59      0.53      0.54      5244\n",
      "weighted avg       0.98      0.99      0.98      5244\n",
      "\n",
      "\n",
      "Target column: shops\n",
      "              precision    recall  f1-score   support\n",
      "\n",
      "           0       1.00      1.00      1.00      5220\n",
      "           1       0.00      0.00      0.00        24\n",
      "\n",
      "    accuracy                           1.00      5244\n",
      "   macro avg       0.50      0.50      0.50      5244\n",
      "weighted avg       0.99      1.00      0.99      5244\n",
      "\n",
      "\n",
      "Target column: aid_centers\n",
      "              precision    recall  f1-score   support\n",
      "\n",
      "           0       0.99      1.00      0.99      5183\n",
      "           1       0.20      0.03      0.06        61\n",
      "\n",
      "    accuracy                           0.99      5244\n",
      "   macro avg       0.59      0.52      0.52      5244\n",
      "weighted avg       0.98      0.99      0.98      5244\n",
      "\n",
      "\n",
      "Target column: other_infrastructure\n",
      "              precision    recall  f1-score   support\n",
      "\n",
      "           0       0.97      0.87      0.92      5030\n",
      "           1       0.13      0.47      0.21       214\n",
      "\n",
      "    accuracy                           0.85      5244\n",
      "   macro avg       0.55      0.67      0.56      5244\n",
      "weighted avg       0.94      0.85      0.89      5244\n",
      "\n",
      "\n",
      "Target column: weather_related\n",
      "              precision    recall  f1-score   support\n",
      "\n",
      "           0       0.89      0.86      0.87      3837\n",
      "           1       0.64      0.71      0.67      1407\n",
      "\n",
      "    accuracy                           0.82      5244\n",
      "   macro avg       0.77      0.78      0.77      5244\n",
      "weighted avg       0.82      0.82      0.82      5244\n",
      "\n",
      "\n",
      "Target column: floods\n",
      "              precision    recall  f1-score   support\n",
      "\n",
      "           0       0.97      0.86      0.91      4859\n",
      "           1       0.28      0.71      0.40       385\n",
      "\n",
      "    accuracy                           0.84      5244\n",
      "   macro avg       0.63      0.78      0.66      5244\n",
      "weighted avg       0.92      0.84      0.87      5244\n",
      "\n",
      "\n",
      "Target column: storm\n",
      "              precision    recall  f1-score   support\n",
      "\n",
      "           0       0.97      0.95      0.96      4748\n",
      "           1       0.58      0.71      0.63       496\n",
      "\n",
      "    accuracy                           0.92      5244\n",
      "   macro avg       0.77      0.83      0.80      5244\n",
      "weighted avg       0.93      0.92      0.93      5244\n",
      "\n",
      "\n",
      "Target column: fire\n",
      "              precision    recall  f1-score   support\n",
      "\n",
      "           0       0.99      1.00      1.00      5192\n",
      "           1       0.67      0.12      0.20        52\n",
      "\n",
      "    accuracy                           0.99      5244\n",
      "   macro avg       0.83      0.56      0.60      5244\n",
      "weighted avg       0.99      0.99      0.99      5244\n",
      "\n",
      "\n",
      "Target column: earthquake\n",
      "              precision    recall  f1-score   support\n",
      "\n",
      "           0       0.97      0.98      0.97      4773\n",
      "           1       0.75      0.69      0.72       471\n",
      "\n",
      "    accuracy                           0.95      5244\n",
      "   macro avg       0.86      0.83      0.85      5244\n",
      "weighted avg       0.95      0.95      0.95      5244\n",
      "\n",
      "\n",
      "Target column: cold\n",
      "              precision    recall  f1-score   support\n",
      "\n",
      "           0       0.99      0.98      0.99      5151\n",
      "           1       0.35      0.48      0.41        93\n",
      "\n",
      "    accuracy                           0.98      5244\n",
      "   macro avg       0.67      0.73      0.70      5244\n",
      "weighted avg       0.98      0.98      0.98      5244\n",
      "\n",
      "\n",
      "Target column: other_weather\n",
      "              precision    recall  f1-score   support\n",
      "\n",
      "           0       0.97      0.84      0.90      4974\n",
      "           1       0.16      0.56      0.24       270\n",
      "\n",
      "    accuracy                           0.82      5244\n",
      "   macro avg       0.56      0.70      0.57      5244\n",
      "weighted avg       0.93      0.82      0.86      5244\n",
      "\n",
      "\n",
      "Target column: direct_report\n",
      "              precision    recall  f1-score   support\n",
      "\n",
      "           0       0.93      0.81      0.87      4194\n",
      "           1       0.51      0.76      0.61      1050\n",
      "\n",
      "    accuracy                           0.80      5244\n",
      "   macro avg       0.72      0.79      0.74      5244\n",
      "weighted avg       0.85      0.80      0.82      5244\n",
      "\n"
     ]
    },
    {
     "name": "stderr",
     "output_type": "stream",
     "text": [
      "/Users/mxagar/opt/anaconda3/envs/dis-res/lib/python3.9/site-packages/sklearn/metrics/_classification.py:1344: UndefinedMetricWarning: Precision and F-score are ill-defined and being set to 0.0 in labels with no predicted samples. Use `zero_division` parameter to control this behavior.\n",
      "  _warn_prf(average, modifier, msg_start, len(result))\n",
      "/Users/mxagar/opt/anaconda3/envs/dis-res/lib/python3.9/site-packages/sklearn/metrics/_classification.py:1344: UndefinedMetricWarning: Precision and F-score are ill-defined and being set to 0.0 in labels with no predicted samples. Use `zero_division` parameter to control this behavior.\n",
      "  _warn_prf(average, modifier, msg_start, len(result))\n",
      "/Users/mxagar/opt/anaconda3/envs/dis-res/lib/python3.9/site-packages/sklearn/metrics/_classification.py:1344: UndefinedMetricWarning: Precision and F-score are ill-defined and being set to 0.0 in labels with no predicted samples. Use `zero_division` parameter to control this behavior.\n",
      "  _warn_prf(average, modifier, msg_start, len(result))\n"
     ]
    }
   ],
   "source": [
    "for i in range(len(Y_test.columns)):\n",
    "    print(f\"\\nTarget column: {Y_test.columns[i]}\")\n",
    "    print(classification_report(Y_test.iloc[:,i],Y_pred[:,i]))"
   ]
  },
  {
   "cell_type": "code",
   "execution_count": 208,
   "metadata": {
    "tags": []
   },
   "outputs": [
    {
     "data": {
      "text/plain": [
       "{'classifier__estimator__min_samples_split': 2,\n",
       " 'classifier__estimator__n_estimators': 200}"
      ]
     },
     "execution_count": 208,
     "metadata": {},
     "output_type": "execute_result"
    }
   ],
   "source": [
    "grid.best_params_"
   ]
  },
  {
   "cell_type": "markdown",
   "metadata": {},
   "source": [
    "### 8. Try improving your model further. Here are a few ideas:\n",
    "* try other machine learning algorithms\n",
    "* add other features besides the TF-IDF"
   ]
  },
  {
   "cell_type": "code",
   "execution_count": null,
   "metadata": {},
   "outputs": [],
   "source": []
  },
  {
   "cell_type": "markdown",
   "metadata": {},
   "source": [
    "### 9. Export your model as a pickle file"
   ]
  },
  {
   "cell_type": "code",
   "execution_count": 213,
   "metadata": {
    "tags": []
   },
   "outputs": [],
   "source": [
    "import pickle\n",
    "import joblib"
   ]
  },
  {
   "cell_type": "code",
   "execution_count": 218,
   "metadata": {
    "tags": []
   },
   "outputs": [],
   "source": [
    "model_artifact = \"../models/classifier.pkl\"\n",
    "with open(model_artifact, 'wb') as f:\n",
    "    # wb: write bytes\n",
    "    pickle.dump(grid.best_estimator_, f)"
   ]
  },
  {
   "cell_type": "markdown",
   "metadata": {},
   "source": [
    "### 10. Use this notebook to complete `train.py`\n",
    "Use the template file attached in the Resources folder to write a script that runs the steps above to create a database and export a model based on a new dataset specified by the user."
   ]
  },
  {
   "cell_type": "markdown",
   "metadata": {},
   "source": [
    "### 11. Tests"
   ]
  },
  {
   "cell_type": "code",
   "execution_count": 402,
   "metadata": {
    "tags": []
   },
   "outputs": [],
   "source": [
    "import disaster_response as dr"
   ]
  },
  {
   "cell_type": "code",
   "execution_count": 403,
   "metadata": {
    "tags": []
   },
   "outputs": [],
   "source": [
    "config = dr.load_validate_config(config_filename=\"../config.yaml\")"
   ]
  },
  {
   "cell_type": "code",
   "execution_count": 413,
   "metadata": {
    "tags": []
   },
   "outputs": [],
   "source": [
    "X, Y = dr.load_XY(config['categorical_columns'],\n",
    "                config['nlp_columns'],\n",
    "                config['target_columns'],\n",
    "                \"../data/DisasterResponse.db\")"
   ]
  },
  {
   "cell_type": "code",
   "execution_count": 414,
   "metadata": {
    "tags": []
   },
   "outputs": [
    {
     "data": {
      "text/html": [
       "<div>\n",
       "<style scoped>\n",
       "    .dataframe tbody tr th:only-of-type {\n",
       "        vertical-align: middle;\n",
       "    }\n",
       "\n",
       "    .dataframe tbody tr th {\n",
       "        vertical-align: top;\n",
       "    }\n",
       "\n",
       "    .dataframe thead th {\n",
       "        text-align: right;\n",
       "    }\n",
       "</style>\n",
       "<table border=\"1\" class=\"dataframe\">\n",
       "  <thead>\n",
       "    <tr style=\"text-align: right;\">\n",
       "      <th></th>\n",
       "      <th>message</th>\n",
       "    </tr>\n",
       "  </thead>\n",
       "  <tbody>\n",
       "    <tr>\n",
       "      <th>0</th>\n",
       "      <td>Weather update - a cold front from Cuba that c...</td>\n",
       "    </tr>\n",
       "    <tr>\n",
       "      <th>1</th>\n",
       "      <td>Is the Hurricane over or is it not over</td>\n",
       "    </tr>\n",
       "    <tr>\n",
       "      <th>2</th>\n",
       "      <td>Looking for someone but no name</td>\n",
       "    </tr>\n",
       "    <tr>\n",
       "      <th>3</th>\n",
       "      <td>UN reports Leogane 80-90 destroyed. Only Hospi...</td>\n",
       "    </tr>\n",
       "    <tr>\n",
       "      <th>4</th>\n",
       "      <td>says: west side of Haiti, rest of the country ...</td>\n",
       "    </tr>\n",
       "    <tr>\n",
       "      <th>...</th>\n",
       "      <td>...</td>\n",
       "    </tr>\n",
       "    <tr>\n",
       "      <th>26211</th>\n",
       "      <td>The training demonstrated how to enhance micro...</td>\n",
       "    </tr>\n",
       "    <tr>\n",
       "      <th>26212</th>\n",
       "      <td>A suitable candidate has been selected and OCH...</td>\n",
       "    </tr>\n",
       "    <tr>\n",
       "      <th>26213</th>\n",
       "      <td>Proshika, operating in Cox's Bazar municipalit...</td>\n",
       "    </tr>\n",
       "    <tr>\n",
       "      <th>26214</th>\n",
       "      <td>Some 2,000 women protesting against the conduc...</td>\n",
       "    </tr>\n",
       "    <tr>\n",
       "      <th>26215</th>\n",
       "      <td>A radical shift in thinking came about as a re...</td>\n",
       "    </tr>\n",
       "  </tbody>\n",
       "</table>\n",
       "<p>26216 rows × 1 columns</p>\n",
       "</div>"
      ],
      "text/plain": [
       "                                                 message\n",
       "0      Weather update - a cold front from Cuba that c...\n",
       "1                Is the Hurricane over or is it not over\n",
       "2                        Looking for someone but no name\n",
       "3      UN reports Leogane 80-90 destroyed. Only Hospi...\n",
       "4      says: west side of Haiti, rest of the country ...\n",
       "...                                                  ...\n",
       "26211  The training demonstrated how to enhance micro...\n",
       "26212  A suitable candidate has been selected and OCH...\n",
       "26213  Proshika, operating in Cox's Bazar municipalit...\n",
       "26214  Some 2,000 women protesting against the conduc...\n",
       "26215  A radical shift in thinking came about as a re...\n",
       "\n",
       "[26216 rows x 1 columns]"
      ]
     },
     "execution_count": 414,
     "metadata": {},
     "output_type": "execute_result"
    }
   ],
   "source": [
    "X"
   ]
  },
  {
   "cell_type": "code",
   "execution_count": 405,
   "metadata": {
    "tags": []
   },
   "outputs": [
    {
     "data": {
      "text/plain": [
       "pandas.core.frame.DataFrame"
      ]
     },
     "execution_count": 405,
     "metadata": {},
     "output_type": "execute_result"
    }
   ],
   "source": [
    "type(X)"
   ]
  },
  {
   "cell_type": "code",
   "execution_count": 406,
   "metadata": {
    "tags": []
   },
   "outputs": [
    {
     "data": {
      "text/plain": [
       "(26216, 1)"
      ]
     },
     "execution_count": 406,
     "metadata": {},
     "output_type": "execute_result"
    }
   ],
   "source": [
    "X.shape"
   ]
  },
  {
   "cell_type": "code",
   "execution_count": 411,
   "metadata": {
    "tags": []
   },
   "outputs": [
    {
     "data": {
      "text/plain": [
       "numpy.ndarray"
      ]
     },
     "execution_count": 411,
     "metadata": {},
     "output_type": "execute_result"
    }
   ],
   "source": [
    "type(X.values)"
   ]
  },
  {
   "cell_type": "code",
   "execution_count": 416,
   "metadata": {
    "tags": []
   },
   "outputs": [
    {
     "data": {
      "text/plain": [
       "(26216,)"
      ]
     },
     "execution_count": 416,
     "metadata": {},
     "output_type": "execute_result"
    }
   ],
   "source": [
    "pd.Series(X['message']).shape"
   ]
  },
  {
   "cell_type": "code",
   "execution_count": 417,
   "metadata": {
    "tags": []
   },
   "outputs": [],
   "source": [
    "model = dr.load_validate_model(model_artifact=\"../\"+config['model_filepath'])"
   ]
  },
  {
   "cell_type": "code",
   "execution_count": 419,
   "metadata": {
    "tags": []
   },
   "outputs": [],
   "source": [
    "#classification_labels = model.predict()"
   ]
  },
  {
   "cell_type": "code",
   "execution_count": 441,
   "metadata": {
    "tags": []
   },
   "outputs": [],
   "source": [
    "messages = pd.DataFrame(data=[\"test\",\"\"], columns=['message'])"
   ]
  },
  {
   "cell_type": "code",
   "execution_count": 442,
   "metadata": {
    "tags": []
   },
   "outputs": [],
   "source": [
    "classification_labels = model.predict(messages)"
   ]
  },
  {
   "cell_type": "code",
   "execution_count": 444,
   "metadata": {
    "tags": []
   },
   "outputs": [
    {
     "data": {
      "text/plain": [
       "array([2, 0, 0, 0, 0, 0, 0, 0, 0, 0, 0, 0, 0, 0, 0, 0, 0, 0, 0, 0, 0, 0,\n",
       "       0, 0, 0, 0, 0, 0, 0, 0, 0, 0, 0, 0, 0, 0])"
      ]
     },
     "execution_count": 444,
     "metadata": {},
     "output_type": "execute_result"
    }
   ],
   "source": [
    "classification_labels[0]"
   ]
  },
  {
   "cell_type": "code",
   "execution_count": null,
   "metadata": {},
   "outputs": [],
   "source": []
  }
 ],
 "metadata": {
  "kernelspec": {
   "display_name": "Python 3 (ipykernel)",
   "language": "python",
   "name": "python3"
  },
  "language_info": {
   "codemirror_mode": {
    "name": "ipython",
    "version": 3
   },
   "file_extension": ".py",
   "mimetype": "text/x-python",
   "name": "python",
   "nbconvert_exporter": "python",
   "pygments_lexer": "ipython3",
   "version": "3.9.16"
  }
 },
 "nbformat": 4,
 "nbformat_minor": 4
}
